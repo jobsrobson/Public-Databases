{
 "cells": [
  {
   "cell_type": "code",
   "execution_count": 1,
   "metadata": {},
   "outputs": [],
   "source": [
    "import pandas as pd\n",
    "import random\n",
    "import time"
   ]
  },
  {
   "cell_type": "code",
   "execution_count": 2,
   "metadata": {},
   "outputs": [],
   "source": [
    "df = pd.read_csv(\"https://raw.githubusercontent.com/jobsrobson/General/main/data.csv\")"
   ]
  },
  {
   "cell_type": "code",
   "execution_count": 9,
   "metadata": {},
   "outputs": [
    {
     "name": "stdout",
     "output_type": "stream",
     "text": [
      "O valor total de compras para o cliente com ID 23225 é: 100.62690004112731\n",
      "Tempo de execução: 1.8706786632537842 segundos\n"
     ]
    }
   ],
   "source": [
    "class TabelaHash:\n",
    "    def __init__(self, tamanho):\n",
    "        self.tamanho = tamanho\n",
    "        self.tabela = [None] * tamanho\n",
    "\n",
    "    def _hash(self, chave):\n",
    "        return hash(chave) % self.tamanho\n",
    "\n",
    "    def inserir(self, chave, valor):\n",
    "        indice = self._hash(chave)\n",
    "        if self.tabela[indice] is None:\n",
    "            self.tabela[indice] = [(chave, valor)]\n",
    "        else:\n",
    "            for item in self.tabela[indice]:\n",
    "                if item[0] == chave:\n",
    "                    item[1] = valor\n",
    "                    return\n",
    "            self.tabela[indice].append((chave, valor))\n",
    "\n",
    "    def buscar(self, chave):\n",
    "        indice = self._hash(chave)\n",
    "        if self.tabela[indice] is not None:\n",
    "            for pos, item in enumerate(self.tabela[indice]):\n",
    "                if item[0] == chave:\n",
    "\n",
    "                    print(f\"ID {chave} encontrado na posição {indice}, posição interna {pos}\")\n",
    "\n",
    "                return item[1]\n",
    "\n",
    "        print(f\"ID {chave} não encontrado.\")\n",
    "        return None\n",
    "\n",
    "# Medir tempo de execução\n",
    "inicio = time.time()\n",
    "\n",
    "# Exemplo de uso\n",
    "tabela_clientes = TabelaHash(tamanho=10)\n",
    "\n",
    "# Inserindo dados na tabela\n",
    "for index, row in df.iterrows():\n",
    "    tabela_clientes.inserir(row['ID do Cliente'], row['Valor Total de Compras'])\n",
    "\n",
    "# Buscando o valor total de compras para o cliente com ID 126\n",
    "id_cliente = 23225\n",
    "\n",
    "valor_compras_cliente = tabela_clientes.buscar(id_cliente)\n",
    "print(f\"O valor total de compras para o cliente com ID {id_cliente} é: {valor_compras_cliente}\")\n",
    "\n",
    "fim = time.time()\n",
    "tempo_execucao = fim - inicio\n",
    "print(f\"Tempo de execução: {tempo_execucao} segundos\")"
   ]
  }
 ],
 "metadata": {
  "kernelspec": {
   "display_name": "Python 3",
   "language": "python",
   "name": "python3"
  },
  "language_info": {
   "codemirror_mode": {
    "name": "ipython",
    "version": 3
   },
   "file_extension": ".py",
   "mimetype": "text/x-python",
   "name": "python",
   "nbconvert_exporter": "python",
   "pygments_lexer": "ipython3",
   "version": "3.12.0"
  }
 },
 "nbformat": 4,
 "nbformat_minor": 2
}
